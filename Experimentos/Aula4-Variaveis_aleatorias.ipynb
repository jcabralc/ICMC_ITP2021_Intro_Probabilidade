{
 "cells": [
  {
   "cell_type": "markdown",
   "metadata": {},
   "source": [
    "# Aula 4: Variáveis aleatórias"
   ]
  },
  {
   "cell_type": "markdown",
   "metadata": {},
   "source": [
    "Um jogador paga 5 reais para participar de um jogo de dados, disputando com o oponente quem tem o ponto maior. O jogador e o oponente lançam cada um o seu dado e a seguinte regra de premiação é estabelecida:\n",
    "\n",
    "(i) Se o ponto do jogador é maior, ele ganha 2 vezes a diferença entre o seu ponto e o obtido pelo oponente. <br>\n",
    "(ii) Se o ponto do jogador é menor ou igual ao do oponente, ele não ganha nada.\n",
    "\n",
    "Esse jogo é favorável ao jogador?"
   ]
  },
  {
   "cell_type": "code",
   "execution_count": 1,
   "metadata": {},
   "outputs": [
    {
     "name": "stdout",
     "output_type": "stream",
     "text": [
      "Aposta: 5 reais.\n",
      "Chance de lucro: 0.16\n"
     ]
    }
   ],
   "source": [
    "from random import randint\n",
    "aposta = 5\n",
    "Ns = 100 # numero de jogos\n",
    "p = 0\n",
    "for n in range(1,Ns):\n",
    "    G = 0\n",
    "    j = randint(1, 6) # valor do jogador\n",
    "    b = randint(1, 6) # valor do oponente\n",
    "    if(j > b): # se o valor do jogador eh maior\n",
    "        G = 2*(j-b)\n",
    "    if(G > aposta): # se houver lucro\n",
    "        p = p + 1\n",
    "p = p/Ns # probabilidade de ter lucro\n",
    "print('Aposta:', aposta, 'reais.')\n",
    "print(\"Chance de lucro:\", p)"
   ]
  },
  {
   "cell_type": "code",
   "execution_count": null,
   "metadata": {},
   "outputs": [],
   "source": []
  }
 ],
 "metadata": {
  "kernelspec": {
   "display_name": "Python 3",
   "language": "python",
   "name": "python3"
  },
  "language_info": {
   "codemirror_mode": {
    "name": "ipython",
    "version": 3
   },
   "file_extension": ".py",
   "mimetype": "text/x-python",
   "name": "python",
   "nbconvert_exporter": "python",
   "pygments_lexer": "ipython3",
   "version": "3.7.4"
  }
 },
 "nbformat": 4,
 "nbformat_minor": 4
}
