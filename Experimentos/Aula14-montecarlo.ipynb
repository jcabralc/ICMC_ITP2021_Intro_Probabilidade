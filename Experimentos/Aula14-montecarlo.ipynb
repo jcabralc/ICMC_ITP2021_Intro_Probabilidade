{
 "cells": [
  {
   "cell_type": "markdown",
   "metadata": {},
   "source": [
    "# Método de Monte Carlo: introdução"
   ]
  },
  {
   "cell_type": "markdown",
   "metadata": {},
   "source": [
    "Francisco Aparecido Rodrigues, francisco@icmc.usp.br.<br>\n",
    "Universidade de São Paulo, São Carlos, Brasil.<br>\n",
    "https://sites.icmc.usp.br/francisco <br>\n",
    "Copyright: Creative Commons<br>"
   ]
  },
  {
   "cell_type": "markdown",
   "metadata": {},
   "source": [
    "<hr>"
   ]
  },
  {
   "cell_type": "markdown",
   "metadata": {},
   "source": [
    "Um dos métodos mais populares para simular processos probabilísticos foi proposto por na década de 40 por Stanislaw Ulam, que estava trabalhando no desenvolvimento da bomba atômica, no Los Alamos National Laboratory, nos Estados Unidos. Uma método parecido havia sido proposto por Enrico Fermi no estudo de difusão de neutrons, mas ele não publicou a ideia. A patir do trabalho de Ulam, John von Neumann adaptou o método e programou o  ENIAC (Electronic Numerical Integrator and Computer), que foi o primeiro computador programável, de forma geral, da história. John von Neumann chamou o método de Método de Monte Carlo, que, basicamente, é usado para gerar números aleatórios a partir de uma certa distribuição de probabilidades. O nome se deve à cidade de Monte Carlo, no principado de Mônaco, que possui diversos cassinos. O método de Monte Carlo possui as mais diversas aplicações que vão desde o estudo de emissões nucleares até inferência Bayesiana, sendo, nesse caso, é usada uma adaptação do método chamada Markov Chain Monte Carlo (MCMC).\n"
   ]
  },
  {
   "cell_type": "markdown",
   "metadata": {},
   "source": [
    "<img src=\"motecarlocreators.jpg\">"
   ]
  },
  {
   "cell_type": "markdown",
   "metadata": {},
   "source": [
    "## Geração de números aleatórios"
   ]
  },
  {
   "cell_type": "markdown",
   "metadata": {},
   "source": [
    "O primeiro passo na simulação de processos estocásticos é a geração de números aleatórios, ou seja, gerar números no intervalo [0,1] onde todos os valores tem a mesma chance de ocorrerem. Maiores detalhes sobre o método que vamos  discutir podem ser vistos na Wikipedia: https://en.wikipedia.org/wiki/Linear_congruential_generator"
   ]
  },
  {
   "cell_type": "markdown",
   "metadata": {},
   "source": [
    "No método chamada Linear Congruential Generator, nós geramos uma sequência de números pseudo-aleatórios através da relação de recorrência:\n",
    "$$X_{n+1} = (aX_n + c) \\mod m$$\n",
    "onde $X_0$ é a semente, m, a e c são inteiros maiores do que zero. A sequência obtida satisfaz  $0 \\leq X_i \\leq m$. Para gerar o número no intervalo [0,1], usamos $$U_n = X_n/m.$$\n",
    "Vamos considerar uma exemplo."
   ]
  },
  {
   "cell_type": "code",
   "execution_count": 1,
   "metadata": {},
   "outputs": [
    {
     "name": "stdout",
     "output_type": "stream",
     "text": [
      "[1, 11, 9, 3, 1, 11, 9, 3, 1, 11, 9, 3, 1, 11, 9, 3, 1, 11, 9, 3, 1]\n"
     ]
    },
    {
     "data": {
      "text/plain": [
       "<Figure size 800x500 with 1 Axes>"
      ]
     },
     "metadata": {},
     "output_type": "display_data"
    },
    {
     "data": {
      "text/plain": [
       "<Figure size 800x500 with 1 Axes>"
      ]
     },
     "metadata": {},
     "output_type": "display_data"
    }
   ],
   "source": [
    "import numpy as np\n",
    "import matplotlib.pyplot as plt\n",
    "#from matplotlib import style\n",
    "#style.use('dark_background')\n",
    "\n",
    "def random(Xi, a, c, m):\n",
    "    Xii = (a*Xi + c)%m\n",
    "    return Xii\n",
    "\n",
    "a = 11\n",
    "c = 0\n",
    "m = 16\n",
    "X0 = 1\n",
    "n = 20 # number of numbers to be generated\n",
    "Xi = X0\n",
    "X = [X0]\n",
    "for i in range(n):\n",
    "    Xi= random(Xi,a,c,m)\n",
    "    X.append(Xi)\n",
    "print(X)\n",
    "s = np.arange(0, len(X))\n",
    "\n",
    "plt.figure(figsize=(8,5))\n",
    "plt.bar(s,X, color = 'gray')\n",
    "plt.xlabel('n', fontsize = 20)\n",
    "plt.ylabel('x',fontsize = 20)\n",
    "plt.savefig('MC1.svg')\n",
    "plt.show(True)\n",
    "\n",
    "plt.figure(figsize=(8,5))\n",
    "plt.hist(X, bins='auto', color = 'gray', histtype='bar', ec='black')  \n",
    "plt.xlabel('x', fontsize = 20)\n",
    "plt.ylabel('P(x)',fontsize = 20)\n",
    "plt.savefig('MC2.svg')\n",
    "plt.show(True)"
   ]
  },
  {
   "cell_type": "markdown",
   "metadata": {},
   "source": [
    "Notamos que a sequência é periódica, sendo que $[1, 11, 9, 3]$ se repete. Ou seja, não temos um bom gerador de números aleatórios, pois podemos prever o próximo número se descobrir a sequência. Para resolver esse problema, temos o seguinte teorema, demonstrado no livro The Art Of Computer Programming (Donald Knuth).\n",
    "\n",
    "O gerador pseudo-aleatório linear produz uma sequência aperiódica se as seguintes condições forem sastisfeitas:\n",
    "* $X_{n+1} = (aX_n + c)\\mod m, \\quad U_n = X_n/m.$<br>\n",
    "* Se $q$ é um número primo que divide $m$, então ele divide $b=a-1$.<br>\n",
    "* Se $m$ é múltiplo de 4, então $b=a-1$ deve ser múltiplo de 4.<br>\n",
    "* O único inteiro que divide exatamente $m$ e $c$ é  valor um.<br>"
   ]
  },
  {
   "cell_type": "code",
   "execution_count": 2,
   "metadata": {},
   "outputs": [
    {
     "data": {
      "image/png": "[encoded data removed]",
      "text/plain": [
       "<Figure size 576x360 with 1 Axes>"
      ]
     },
     "metadata": {
      "needs_background": "light"
     },
     "output_type": "display_data"
    },
    {
     "data": {
      "image/png": "[encoded data removed]",
      "text/plain": [
       "<Figure size 576x360 with 1 Axes>"
      ]
     },
     "metadata": {
      "needs_background": "light"
     },
     "output_type": "display_data"
    }
   ],
   "source": [
    "a = 7**5\n",
    "c = 0\n",
    "m = 2**31 - 1\n",
    "X0 = 0.5\n",
    "n = 500 # number of numbers to be generated\n",
    "Xi = X0\n",
    "X = [X0]\n",
    "for i in range(n):\n",
    "    Xi= random(Xi,a,c,m)\n",
    "    X.append(Xi/m)\n",
    "#print(X)\n",
    "\n",
    "s = np.arange(0, len(X))\n",
    "plt.figure(figsize=(8,5))\n",
    "plt.bar(s,X, color = 'gray')\n",
    "plt.xlabel('n', fontsize = 20)\n",
    "plt.ylabel('x',fontsize = 20)\n",
    "plt.savefig('MC3.svg')\n",
    "plt.show(True)\n",
    "\n",
    "plt.figure(figsize=(8,5))\n",
    "plt.hist(X, bins='auto', color = 'gray', histtype='bar', ec='black')  \n",
    "plt.xlabel('x', fontsize = 20)\n",
    "plt.ylabel('P(x)',fontsize = 20)\n",
    "plt.savefig('MC4.svg')\n",
    "plt.show(True)"
   ]
  },
  {
   "cell_type": "markdown",
   "metadata": {},
   "source": [
    "Vemos que agora a frequência em que os números ocorrem é praticamente a mesma."
   ]
  },
  {
   "cell_type": "markdown",
   "metadata": {},
   "source": [
    "## Retirando uma bola em uma urna"
   ]
  },
  {
   "cell_type": "markdown",
   "metadata": {},
   "source": [
    "Para começarmos a enteder a simulação de processos estocásticos, vamos simular a retirada de uma bola de uma urna com reposição, ou seja, a bola retirada é sempre recolocada na urna antes da próxima retirada."
   ]
  },
  {
   "cell_type": "markdown",
   "metadata": {},
   "source": [
    "Vamos supor que temos uma urna com 6 bolas brancas e 4 pretas:"
   ]
  },
  {
   "cell_type": "code",
   "execution_count": 3,
   "metadata": {},
   "outputs": [
    {
     "name": "stdout",
     "output_type": "stream",
     "text": [
      "Urna: ['B', 'B', 'B', 'B', 'B', 'B', 'P', 'P', 'P', 'P']\n"
     ]
    }
   ],
   "source": [
    "urna = ['B','B','B','B','B','B','P','P','P','P']\n",
    "print('Urna:',urna)"
   ]
  },
  {
   "cell_type": "markdown",
   "metadata": {},
   "source": [
    "Para selecinarmos uma bola, basta selecionarmos uma posição no vetor e verificar a respectiva bola. Vamos fazer essa retirada 100 vezes e verificar quantas vezes retiramos uma bola branca."
   ]
  },
  {
   "cell_type": "code",
   "execution_count": 4,
   "metadata": {},
   "outputs": [
    {
     "name": "stdout",
     "output_type": "stream",
     "text": [
      "Fração de vezes que saiu uma bola branca: 0.588\n"
     ]
    }
   ],
   "source": [
    "import random # biblioteca para gerar números aleatórios\n",
    "n = 0 # numero de retiradas de bolas brancas\n",
    "nsim = 1000 # numero de experimentos\n",
    "for i in range(0,nsim):\n",
    "    posicao = random.randint(0,len(urna)-1)\n",
    "    if(urna[posicao] == 'B'):\n",
    "        n = n + 1        \n",
    "print('Fração de vezes que saiu uma bola branca:', n/nsim)"
   ]
  },
  {
   "cell_type": "code",
   "execution_count": 5,
   "metadata": {},
   "outputs": [
    {
     "name": "stdout",
     "output_type": "stream",
     "text": [
      "Valor teórico da probabilidade: 0.6\n"
     ]
    }
   ],
   "source": [
    "# vamos calcular o valor teórica da probabilidade contanto o número de bolas brancas na urna\n",
    "valor_teorico = 0\n",
    "for bola in urna:\n",
    "    if (bola == 'B'):\n",
    "        valor_teorico = valor_teorico + 1\n",
    "valor_teorico = valor_teorico/len(urna)\n",
    "print('Valor teórico da probabilidade:', valor_teorico)"
   ]
  },
  {
   "cell_type": "markdown",
   "metadata": {},
   "source": [
    "Ou seja, vemos que é próximo do valor teórico: 6/10. Se aumentarmos o número de experimentos, vamos mostrar os resultados em um gráfico."
   ]
  },
  {
   "cell_type": "code",
   "execution_count": 6,
   "metadata": {},
   "outputs": [
    {
     "data": {
      "image/png": "[encoded data removed]",
      "text/plain": [
       "<Figure size 576x432 with 1 Axes>"
      ]
     },
     "metadata": {
      "needs_background": "light"
     },
     "output_type": "display_data"
    }
   ],
   "source": [
    "import random # biblioteca para gerar números aleatórios\n",
    "import numpy as np # biblioteca numérica numpy\n",
    "import matplotlib.pyplot as plt # biblioteca necessária para mostrar os gráficos\n",
    "\n",
    "\n",
    "vp = [] # lista que armazena a fração de ocorrências em função do número de simulações nsim\n",
    "vsim = [] # armazena o número de simulações\n",
    "Nmax = 1000 # numero maximo de simulacoes\n",
    "for nsim in np.arange(1,Nmax,1):\n",
    "    n = 0 # numero de retiradas de bolas brancas\n",
    "    for i in range(1,nsim):\n",
    "        posicao = random.randint(0,len(urna)-1)\n",
    "        if(urna[posicao] == 'B'):\n",
    "            n = n + 1        \n",
    "    vp.append(n/nsim)\n",
    "    vsim.append(nsim)\n",
    "\n",
    "plt.figure(figsize=(8,6))\n",
    "plt.plot(vsim, vp, linestyle='-', color=\"blue\", linewidth=2,label = 'Valor simulado')\n",
    "plt.axhline(y=valor_teorico, color='r', linestyle='--', label = 'Valor teorico')\n",
    "plt.ylabel(\"Fração de bolas brancas\", fontsize=20)\n",
    "plt.xlabel(\"Numero de experimentos\", fontsize=20)\n",
    "plt.xlim([0.0, Nmax])\n",
    "plt.ylim([0.0, 1.0])\n",
    "plt.legend()\n",
    "plt.show(True) "
   ]
  },
  {
   "cell_type": "markdown",
   "metadata": {},
   "source": [
    "Ou seja, vemos que o valor converge para a probabilide esperada."
   ]
  },
  {
   "cell_type": "markdown",
   "metadata": {},
   "source": [
    "> **Exercício**: Considere agora uma urna com 14 bolas brancas e 6 pretas. Repita o procedimento acima e verifique se a estimação é correta."
   ]
  },
  {
   "cell_type": "markdown",
   "metadata": {},
   "source": [
    "## Lançando uma moeda"
   ]
  },
  {
   "cell_type": "markdown",
   "metadata": {},
   "source": [
    "Vamos simular o lançamento de uma moeda. Para isso, precisamos definir uma regra para escolher se saiu cara ou coroa. Para entendermos melhor como definir essa regra, notem que no exemplo anterior, ordenamos as bolas em um vetor. Essa ordenação não faz a menor diferença no exemplo anterior, pois a não consideramos. Se consideramos a ordenação, a regra poderia ser: se a posição no vetor é menor ou igual a 6, então a bola é branca. Caso contrário, é preta. Ou seja, podemos usar essa regra para definir qual dos valores vamos selecionar."
   ]
  },
  {
   "cell_type": "markdown",
   "metadata": {},
   "source": [
    "No caso de uma moeda, vamos supor que $p$ é a chance de sair cara. Então, a regra pode ser: se o número sorteado em [0,1] for menor do que $p$, então saiu cara. Caso contrário, saiu coroa. Vamos realizar um exmperimento."
   ]
  },
  {
   "cell_type": "code",
   "execution_count": 7,
   "metadata": {},
   "outputs": [],
   "source": [
    "p = 0.6 # probabilidade de sair cara"
   ]
  },
  {
   "cell_type": "code",
   "execution_count": 8,
   "metadata": {},
   "outputs": [
    {
     "data": {
      "image/png": "[encoded data removed]",
      "text/plain": [
       "<Figure size 576x432 with 1 Axes>"
      ]
     },
     "metadata": {
      "needs_background": "light"
     },
     "output_type": "display_data"
    }
   ],
   "source": [
    "vp = [] # lista que armazena a fração de ocorrências em função do número de simulações nsim\n",
    "vsim = [] # armazena o número de simulações\n",
    "Nmax = 1000 # numero maximo de simulacoes\n",
    "for nsim in np.arange(1,Nmax,1):\n",
    "    nhead = 0 # numero de caras\n",
    "    for i in range(1,nsim):\n",
    "        if(np.random.uniform() <= p):\n",
    "            nhead = nhead + 1        \n",
    "    vp.append(nhead/nsim)\n",
    "    vsim.append(nsim)\n",
    "\n",
    "plt.figure(figsize=(8,6))\n",
    "plt.plot(vsim, vp, linestyle='-', color=\"blue\", linewidth=2,label = 'Valor simulado')\n",
    "plt.axhline(y=p, color='r', linestyle='--', label = 'Valor teorico')\n",
    "plt.ylabel(\"Fração de caras\", fontsize=20)\n",
    "plt.xlabel(\"Numero de experimentos\", fontsize=20)\n",
    "plt.xlim([0.0, Nmax])\n",
    "plt.ylim([0.0, 1.0])\n",
    "plt.legend()\n",
    "plt.show(True) "
   ]
  },
  {
   "cell_type": "markdown",
   "metadata": {},
   "source": [
    "> **Exercício**: Varie a probabilidade de sair cara e verifique como muda o gráfico acima."
   ]
  },
  {
   "cell_type": "markdown",
   "metadata": {
    "collapsed": true
   },
   "source": [
    "## Calculando o valor de $\\pi$"
   ]
  },
  {
   "cell_type": "markdown",
   "metadata": {
    "collapsed": true
   },
   "source": [
    "Para calcular o valor e $\\pi$, vamos considerar um quadrado de raio 2R que contém um círculo de raio R, conforme a figura abaixo."
   ]
  },
  {
   "cell_type": "markdown",
   "metadata": {},
   "source": [
    "<img src=\"estimating-pi-monte-carlo-method.png\">"
   ]
  },
  {
   "cell_type": "markdown",
   "metadata": {},
   "source": [
    "Selecionando posições aleatórias nessa região e incluindo pontos, conforme exemplificado na figura, temos que alguns pontos caem dentro do círculo (pontos vermelhos), enquanto que outros ficam fora (pontos em azul). Inserindo um grande número de pontos de forma aleatória, temos que:<br>\n",
    "**o número de pontos dentro do círculo/número de pontos gerados = área do círculo/área do quadrado.**<br>\n",
    "Ou seja, o valor de $\\pi$:<br>\n",
    "o número de pontos dentro do círculo/número de pontos gerados = $\\pi R^2$/$4R^2$<br>\n",
    "Logo:<br>\n",
    "$\\pi$ = 4* o número de pontos dentro do círculo/ número de pontos gerados"
   ]
  },
  {
   "cell_type": "code",
   "execution_count": 9,
   "metadata": {},
   "outputs": [
    {
     "name": "stdout",
     "output_type": "stream",
     "text": [
      "Value of pi: 3.156\n"
     ]
    }
   ],
   "source": [
    "n = 1000\n",
    "count_inside = 0\n",
    "for i in np.arange(0,n):\n",
    "    x = np.random.uniform(0,1)\n",
    "    y = np.random.uniform(0,1)\n",
    "    if( x**2 + y**2 < 1):\n",
    "        count_inside = count_inside + 1\n",
    "pi = 4*count_inside/n\n",
    "print(\"Value of pi:\", pi)"
   ]
  },
  {
   "cell_type": "markdown",
   "metadata": {
    "collapsed": true
   },
   "source": [
    "Podemos analisar como essa aproximação muda com o número de pontos gerados."
   ]
  },
  {
   "cell_type": "code",
   "execution_count": 10,
   "metadata": {},
   "outputs": [
    {
     "data": {
      "image/png": "[encoded data removed]",
      "text/plain": [
       "<Figure size 576x432 with 1 Axes>"
      ]
     },
     "metadata": {
      "needs_background": "light"
     },
     "output_type": "display_data"
    }
   ],
   "source": [
    "N = 500\n",
    "vpi = []\n",
    "vpi_std = []\n",
    "vn = []\n",
    "for n in np.arange(1,N, 10):\n",
    "    aux = []\n",
    "    for s in np.arange(0,10):\n",
    "        count_inside = 0\n",
    "        for i in np.arange(0,n):\n",
    "            x = np.random.uniform(0,1)\n",
    "            y = np.random.uniform(0,1)\n",
    "            if( x**2 + y**2 < 1):\n",
    "                count_inside = count_inside + 1\n",
    "        pi = 4*count_inside/n\n",
    "        aux.append(pi)\n",
    "    vpi.append(np.mean(aux))\n",
    "    vpi_std.append(np.std(aux))\n",
    "    vn.append(n)\n",
    "\n",
    "plt.figure(figsize=(8,6))\n",
    "#plt.plot(vn, vpi, linestyle='-', color=\"blue\", linewidth=2.5)\n",
    "plt.errorbar(vn, vpi, yerr=vpi_std, fmt='.-b')\n",
    "plt.axhline(y=np.pi, color='r', linestyle='-')\n",
    "plt.xlabel(\"Number of simulations\", fontsize=20)\n",
    "plt.ylabel(\"Estimated pi\", fontsize=20)\n",
    "plt.show(True)  "
   ]
  },
  {
   "cell_type": "markdown",
   "metadata": {},
   "source": [
    "> **Exercício:** Verifique quantas simulações são necessárias para você obter um valor que seja 99% próximo de $\\pi$. Dica: use o valor conhecido de $\\pi$ e faça um gráfico da diferença entre o valor obtido e o real em função do número de pontos sorteados."
   ]
  },
  {
   "cell_type": "markdown",
   "metadata": {
    "collapsed": true
   },
   "source": [
    "## Semente do gerador de número aleatórios"
   ]
  },
  {
   "cell_type": "markdown",
   "metadata": {},
   "source": [
    "Notem que a semente gera uma sequência de número aleatórios e a sequência se repete quando reiniciamos a semente."
   ]
  },
  {
   "cell_type": "code",
   "execution_count": 11,
   "metadata": {},
   "outputs": [
    {
     "name": "stdout",
     "output_type": "stream",
     "text": [
      "Primeira sequencia:\n",
      "0.5163986277024462\n",
      "0.5706675868681398\n",
      "0.028474226478096942\n",
      "0.17152165622510307\n",
      "0.6852769816973125\n",
      "0.8338968626360765\n",
      "0.3069662196722378\n",
      "0.8936130796833973\n",
      "0.7215438617683047\n",
      "0.18993895420479678\n",
      "\n",
      "\n",
      "Segunda sequencia:\n",
      "0.5163986277024462\n",
      "0.5706675868681398\n",
      "0.028474226478096942\n",
      "0.17152165622510307\n",
      "0.6852769816973125\n",
      "0.8338968626360765\n",
      "0.3069662196722378\n",
      "0.8936130796833973\n",
      "0.7215438617683047\n",
      "0.18993895420479678\n"
     ]
    }
   ],
   "source": [
    "import numpy as np\n",
    "print(\"Primeira sequencia:\")\n",
    "np.random.seed(101)\n",
    "for i in np.arange(0,10):\n",
    "    n = np.random.uniform()\n",
    "    print(n)\n",
    "print('\\n')\n",
    "\n",
    "print(\"Segunda sequencia:\")\n",
    "np.random.seed(101)\n",
    "for i in np.arange(0,10):\n",
    "    n = np.random.uniform()\n",
    "    print(n)"
   ]
  },
  {
   "cell_type": "markdown",
   "metadata": {},
   "source": [
    "Se não reinicarmos a semente:"
   ]
  },
  {
   "cell_type": "code",
   "execution_count": 12,
   "metadata": {},
   "outputs": [
    {
     "name": "stdout",
     "output_type": "stream",
     "text": [
      "Primeira sequencia:\n",
      "0.5163986277024462\n",
      "0.5706675868681398\n",
      "0.028474226478096942\n",
      "0.17152165622510307\n",
      "0.6852769816973125\n",
      "0.8338968626360765\n",
      "0.3069662196722378\n",
      "0.8936130796833973\n",
      "0.7215438617683047\n",
      "0.18993895420479678\n",
      "\n",
      "\n",
      "Segunda sequencia:\n",
      "0.5542275911247871\n",
      "0.3521319540266141\n",
      "0.18189240266007867\n",
      "0.7856017618643588\n",
      "0.9654832224119693\n",
      "0.2323536618147607\n",
      "0.08356143366334368\n",
      "0.6035484222912185\n",
      "0.7289927572876178\n",
      "0.2762388284972628\n"
     ]
    }
   ],
   "source": [
    "import numpy as np\n",
    "print(\"Primeira sequencia:\")\n",
    "np.random.seed(101)\n",
    "for i in np.arange(0,10):\n",
    "    n = np.random.uniform()\n",
    "    print(n)\n",
    "print('\\n')\n",
    "\n",
    "print(\"Segunda sequencia:\")\n",
    "for i in np.arange(0,10):\n",
    "    n = np.random.uniform()\n",
    "    print(n)"
   ]
  },
  {
   "cell_type": "markdown",
   "metadata": {},
   "source": [
    "> **Para pensar:** Como você verificaria se esse números gerados são realmente aleatórios?"
   ]
  },
  {
   "cell_type": "code",
   "execution_count": null,
   "metadata": {},
   "outputs": [],
   "source": []
  }
 ],
 "metadata": {
  "kernelspec": {
   "display_name": "Python 3",
   "language": "python",
   "name": "python3"
  },
  "language_info": {
   "codemirror_mode": {
    "name": "ipython",
    "version": 3
   },
   "file_extension": ".py",
   "mimetype": "text/x-python",
   "name": "python",
   "nbconvert_exporter": "python",
   "pygments_lexer": "ipython3",
   "version": "3.7.4"
  }
 },
 "nbformat": 4,
 "nbformat_minor": 2
}
